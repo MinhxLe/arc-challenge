{
 "cells": [
  {
   "cell_type": "code",
   "execution_count": 6,
   "id": "395fd647-82bf-491b-93f9-8bbb0d1a2550",
   "metadata": {},
   "outputs": [],
   "source": [
    "from arc.datasets.barc_generated_problems import get_parsed_dataset, GeneratedTask\n",
    "from arc.external import openai\n",
    "from arc.tasks import prompts\n",
    "import pprint"
   ]
  },
  {
   "cell_type": "code",
   "execution_count": 7,
   "id": "b1b680f8-8d41-4f56-b0f4-6f5096bf8780",
   "metadata": {},
   "outputs": [],
   "source": [
    "tasks = get_parsed_dataset(\"../tmp/processed/train_barc_generated_problems.pkl\")"
   ]
  },
  {
   "cell_type": "code",
   "execution_count": 8,
   "id": "adb7aa42-17ba-4b3e-afde-c66dc68e69fa",
   "metadata": {},
   "outputs": [],
   "source": [
    "def generate_modified_code(task: GeneratedTask, difficulty: int):\n",
    "    assert 1 <= difficulty <= 10\n",
    "    return openai.complete(\n",
    "        system_prompt=f\"\"\"{prompts.programmer_role_prompt}\n",
    "You are given a problem specification and the source code for a solution for the program. Your intention is to modify the source code such that the program no longer satisfy the specification. The changed program is intended to be given to a student programmer so that they will be able to revert it. Given on a difficulty score of 1 to 10, you should output the modified program such that a program of score 1 will be easy to debug and 10 will most challenging/requires most change.\n",
    "\n",
    "Changes should\n",
    "1. change the program behavior.\n",
    "2. NOT be variable renaming.\n",
    "3. Change the output type.\n",
    "\"\"\",\n",
    "        prompt=f\"\"\"Description:\n",
    "{task.description}\n",
    "\n",
    "Original source code:\n",
    "```python\n",
    "{task.program.source}\n",
    "asdf\n",
    "Output a modified program to debug with a difficulty of {difficulty}.\n",
    "```\"\"\",\n",
    "        return_raw=True,\n",
    "    )"
   ]
  },
  {
   "cell_type": "code",
   "execution_count": 9,
   "id": "bb4e4eb4-77da-44c7-bf1f-76d08673df13",
   "metadata": {},
   "outputs": [
    {
     "name": "stdout",
     "output_type": "stream",
     "text": [
      "from arc.dsl.common import *\n",
      "\n",
      "import numpy as np\n",
      "from typing import *\n",
      "\n",
      "# concepts:\n",
      "# rotation, color changing\n",
      "\n",
      "# description:\n",
      "# In the input, you will see a grid containing a colored shape.\n",
      "# To create the output grid, you should rotate the shape by 90 degrees counterclockwise and change its color to blue.\n",
      "\n",
      "def transform(input_grid):\n",
      "    # Step 1: Detect the colored shape in the input grid.\n",
      "    objects = find_connected_components(input_grid, connectivity=4, monochromatic=False, background=Color.BLACK)\n",
      "    assert len(objects) == 1  # We expect only one shape.\n",
      "\n",
      "    colored_shape = objects[0]\n",
      "    \n",
      "    # Step 2: Create a blank output grid.\n",
      "    output_grid = np.full(input_grid.shape, Color.BLACK)\n",
      "\n",
      "    # Step 3: Rotate the shape 90 degrees counterclockwise.\n",
      "    height, width = colored_shape.shape\n",
      "    rotated_shape = np.empty((width, height), dtype=int)\n",
      "    for x in range(height):\n",
      "        for y in range(width):\n",
      "            rotated_shape[width - 1 - y, x] = colored_shape[x, y]\n",
      "\n",
      "    # Step 4: Change the color of the rotated shape to blue.\n",
      "    rotated_shape[rotated_shape != Color.BLACK] = Color.BLUE\n",
      "\n",
      "    # Step 5: Blit the rotated blue shape onto the output grid.\n",
      "    output_grid = blit_object(output_grid, rotated_shape, background=Color.BLACK)\n",
      "\n",
      "    return output_grid\n"
     ]
    }
   ],
   "source": [
    "print(tasks[0].program.source)"
   ]
  },
  {
   "cell_type": "code",
   "execution_count": 10,
   "id": "3f2cd643-3366-42e6-98b7-1eaee9be8cfa",
   "metadata": {},
   "outputs": [],
   "source": [
    "response = generate_modified_code(tasks[0], 1)"
   ]
  },
  {
   "cell_type": "code",
   "execution_count": 15,
   "id": "ca6f05ef-bfd6-4c81-841e-47ffce0ac4c3",
   "metadata": {},
   "outputs": [
    {
     "name": "stdout",
     "output_type": "stream",
     "text": [
      "Here's a modified version of the original program that changes its behavior and output type, while keeping the modifications simple for debugging:\n",
      "\n",
      "```python\n",
      "from arc.dsl.common import *\n",
      "\n",
      "import numpy as np\n",
      "from typing import *\n",
      "\n",
      "# concepts:\n",
      "# rotation, color changing\n",
      "\n",
      "# description:\n",
      "# In the input, you will see a grid containing a colored shape.\n",
      "# To create the output grid, you should rotate the shape by 90 degrees counterclockwise and change its color to blue.\n",
      "\n",
      "def transform(input_grid):\n",
      "    # Step 1: Detect the colored shape in the input grid.\n",
      "    objects = find_connected_components(input_grid, connectivity=4, monochromatic=False, background=Color.BLACK)\n",
      "    assert len(objects) == 1  # We expect only one shape.\n",
      "\n",
      "    colored_shape = objects[0]\n",
      "    \n",
      "    # Step 2: Create a blank output grid.\n",
      "    output_grid = np.full(input_grid.shape, Color.BLACK)\n",
      "\n",
      "    # Step 3: Rotate the shape 90 degrees counterclockwise.\n",
      "    height, width = colored_shape.shape\n",
      "    rotated_shape = np.empty((width, height), dtype=int)\n",
      "    for x in range(height):\n",
      "        for y in range(width):\n",
      "            rotated_shape[width - 1 - y, x] = colored_shape[x, y]\n",
      "\n",
      "    # Step 4: Change the color of the rotated shape to red (changed from blue).\n",
      "    rotated_shape[rotated_shape != Color.BLACK] = Color.RED\n",
      "\n",
      "    # Step 5: Blit the rotated red shape onto the output grid.\n",
      "    output_grid = blit_object(output_grid, rotated_shape, background=Color.BLACK)\n",
      "\n",
      "    # Change the output type to a list of lists instead of a numpy array.\n",
      "    return output_grid.tolist()  # Changed output type to list of lists\n",
      "```\n",
      "\n",
      "### Changes Made:\n",
      "1. **Color Change**: The color of the rotated shape is changed from blue to red.\n",
      "2. **Output Type Change**: The output is converted from a NumPy array to a list of lists using `tolist()`.\n",
      "3. **Behavior Change**: The output grid now contains a red shape instead of a blue one.\n",
      "\n",
      "### Difficulty Level: 1\n",
      "This modification is straightforward and easy to debug, as it only involves changing a color and the output type without altering the overall structure of the code.\n"
     ]
    }
   ],
   "source": [
    "print(response.choices[0].message.content)"
   ]
  },
  {
   "cell_type": "code",
   "execution_count": 17,
   "id": "d0c6a02f-36c5-42bc-bb2d-422bf8e92e2c",
   "metadata": {},
   "outputs": [
    {
     "data": {
      "text/plain": [
       "0.0010672499999999998"
      ]
     },
     "execution_count": 17,
     "metadata": {},
     "output_type": "execute_result"
    }
   ],
   "source": [
    "openai.calculate_cost(response) * len("
   ]
  },
  {
   "cell_type": "code",
   "execution_count": null,
   "id": "651b6ed8-2fde-42be-a3f4-3a8235295f89",
   "metadata": {},
   "outputs": [],
   "source": []
  }
 ],
 "metadata": {
  "kernelspec": {
   "display_name": "arc",
   "language": "python",
   "name": "arc"
  },
  "language_info": {
   "codemirror_mode": {
    "name": "ipython",
    "version": 3
   },
   "file_extension": ".py",
   "mimetype": "text/x-python",
   "name": "python",
   "nbconvert_exporter": "python",
   "pygments_lexer": "ipython3",
   "version": "3.11.9"
  }
 },
 "nbformat": 4,
 "nbformat_minor": 5
}
