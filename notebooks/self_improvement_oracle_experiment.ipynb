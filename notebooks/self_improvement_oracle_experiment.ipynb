{
 "cells": [
  {
   "cell_type": "code",
   "execution_count": null,
   "metadata": {},
   "outputs": [
    {
     "ename": "",
     "evalue": "",
     "output_type": "error",
     "traceback": [
      "\u001b[1;31mRunning cells with '.venv (Python 3.11.10)' requires the ipykernel package.\n",
      "\u001b[1;31mRun the following command to install 'ipykernel' into the Python environment. \n",
      "\u001b[1;31mCommand: '/Users/siddharthpatel/Projects/arc-challenge/.venv/bin/python -m pip install ipykernel -U --force-reinstall'"
     ]
    }
   ],
   "source": [
    "import arckit"
   ]
  },
  {
   "cell_type": "code",
   "execution_count": null,
   "metadata": {},
   "outputs": [],
   "source": [
    "train_set, eval_set = arckit.load_data()\n",
    "\n",
    "task_id = \"f3cdc58f\"\n",
    "task = eval_set[task_id]\n",
    "task.show()"
   ]
  },
  {
   "cell_type": "code",
   "execution_count": null,
   "metadata": {},
   "outputs": [],
   "source": [
    "\n",
    "\n",
    "programs = solve_task(task, 20, \"first_attempt_temp_0\")\n",
    "\n",
    "programs = []\n",
    "source_code = generate_code(task)[0]\n",
    "fn = interpret_code(source_code)\n",
    "program = Program(task, source_code, fn)\n",
    "program.show()\n",
    "programs.append(program)\n",
    "\n",
    "oracle_prompt = (\n",
    "    prompts.create_improve_solve_task_prompt(task, programs)\n",
    "    + \"\"\"Notice that your `transform` function generated the same exact output for all three examples even though the reference outputs are different for all three examples.\n",
    "Also notice that your `transform` function generated the wrong number of non-black elements in the first four columns in almost all cases.\n",
    "\"\"\"\n",
    "    + f\"Reminder: {prompts.addendum_for_nonfinetuned}\"\n",
    ")\n",
    "\n",
    "improvement_response = openai.complete(\n",
    "    system_prompt=prompts.programmer_role_prompt, prompt=oracle_prompt\n",
    ")\n",
    "\n",
    "source_code_2 = parse_code(improvement_response)\n",
    "\n",
    "fn_2 = interpret_code(source_code_2)\n",
    "program_2 = Program(task, source_code_2, fn_2)\n",
    "program_2.show()\n",
    "programs.append(program_2)\n",
    "\n",
    "oracle_prompt_2 = (\n",
    "    prompts.create_improve_solve_task_prompt(task, programs)\n",
    "    + \"\"\"Notice that once again your latest `transform` function generated the same exact output for all three examples even though the reference outputs are different for all three examples.\n",
    "Make sure to modify the function meaningfully so that your next `transform` function attempt generates different outputs for the examples.\n",
    "Also, in the provided reference examples, think about how the height of the non-black elements in each column of the output grid is related to the prevalence of that color in the input grid.\n",
    "\"\"\"\n",
    "    + f\"Reminder: {prompts.addendum_for_nonfinetuned}\"\n",
    ")\n",
    "\n",
    "improvement_response_2 = openai.complete(\n",
    "    system_prompt=prompts.programmer_role_prompt, prompt=oracle_prompt_2\n",
    ")\n",
    "\n",
    "source_code_3 = parse_code(improvement_response_2)\n",
    "\n",
    "fn_3 = interpret_code(source_code_3)\n",
    "program_3 = Program(task, source_code_3, fn_3)\n",
    "program_3.show()\n",
    "programs.append(program_3)\n",
    "\n",
    "\n",
    "oracle_prompt_3 = (\n",
    "    prompts.create_improve_solve_task_prompt(task, programs)\n",
    "    + \"\"\"Make sure your next attempt at `transform` generates meaningfully different execution outputs.\n",
    "Note that in the reference output, each of the first four columns has a single non-black color, and the columns vary in height of non-black elements, in a way that's related to their prevalence in the input grid.\n",
    "\"\"\"\n",
    "    + f\"Reminder: {prompts.addendum_for_nonfinetuned}\"\n",
    ")\n",
    "\n",
    "improvement_response_3 = openai.complete(\n",
    "    system_prompt=prompts.programmer_role_prompt, prompt=oracle_prompt_3\n",
    ")\n",
    "\n",
    "source_code_4 = parse_code(improvement_response_3)\n",
    "\n",
    "fn_4 = interpret_code(source_code_4)\n",
    "program_4 = Program(task, source_code_4, fn_4)\n",
    "program_4.show()\n",
    "programs.append(program_4)\n"
   ]
  }
 ],
 "metadata": {
  "kernelspec": {
   "display_name": ".venv",
   "language": "python",
   "name": "python3"
  },
  "language_info": {
   "name": "python",
   "version": "3.11.10"
  }
 },
 "nbformat": 4,
 "nbformat_minor": 2
}
